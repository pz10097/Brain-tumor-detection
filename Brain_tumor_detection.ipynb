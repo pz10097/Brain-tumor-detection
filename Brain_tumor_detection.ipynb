{
  "nbformat": 4,
  "nbformat_minor": 0,
  "metadata": {
    "colab": {
      "provenance": [],
      "collapsed_sections": [],
      "authorship_tag": "ABX9TyOMTvgSNmHnAsFit6rHIn7f"
    },
    "kernelspec": {
      "name": "python3",
      "display_name": "Python 3"
    },
    "language_info": {
      "name": "python"
    }
  },
  "cells": [
    {
      "cell_type": "code",
      "source": [
        "#Brain tumor detection\n",
        "#VGG16 model is used with ImageDataGenerator used in model fit"
      ],
      "metadata": {
        "id": "qQ5FRrHh-K8E"
      },
      "execution_count": null,
      "outputs": []
    },
    {
      "cell_type": "code",
      "execution_count": null,
      "metadata": {
        "id": "Z3fp5kdY8DYL"
      },
      "outputs": [],
      "source": [
        "import os\n",
        "import numpy as np\n",
        "import PIL\n",
        "from PIL import Image\n",
        "from sklearn.model_selection import train_test_split\n",
        "import tensorflow as tf\n",
        "from sklearn.metrics import precision_score\n",
        "from sklearn.metrics import recall_score\n",
        "from sklearn.metrics import f1_score\n",
        "from sklearn.metrics import accuracy_score\n",
        "from sklearn.metrics import confusion_matrix\n",
        "from keras.preprocessing.image import ImageDataGenerator\n",
        "from keras.applications.vgg16 import VGG16, preprocess_input\n",
        "from keras.callbacks import EarlyStopping\n",
        "from tensorflow import keras\n",
        "from keras.callbacks import ModelCheckpoint\n",
        "from keras.models import load_model\n",
        "import matplotlib.pyplot as plt"
      ]
    },
    {
      "cell_type": "code",
      "source": [
        "directory_yes = 'yes_crop_50_rgb/'\n",
        "directory_no = 'no_crop_50_rgb/'\n",
        "\n",
        "images_yes = []\n",
        "images_no = []\n",
        "\n",
        "shape = (224, 224)\n",
        "\n",
        "for image in os.listdir(directory_yes):\n",
        "    img = Image.open(directory_yes + image)\n",
        "    img = img.resize(shape)\n",
        "    img = np.array(img)\n",
        "    images_yes.append(img)\n",
        "\n",
        "for image in os.listdir(directory_no):\n",
        "    img = Image.open(directory_no + image)\n",
        "    img = img.resize(shape)\n",
        "    img = np.array(img)\n",
        "    images_no.append(img)"
      ],
      "metadata": {
        "id": "XtePSqZF8206"
      },
      "execution_count": null,
      "outputs": []
    },
    {
      "cell_type": "code",
      "source": [
        "images_yes = np.array(images_yes)\n",
        "images_no = np.array(images_no)\n",
        "print(images_yes.shape)\n",
        "print(images_no.shape)\n",
        "images = np.vstack((images_yes, images_no))\n",
        "print(images.shape)\n",
        "\n",
        "labels = [1]*images_yes.shape[0] + [0]*images_no.shape[0]\n",
        "labels = list(map(float, labels))\n",
        "labels = np.array(labels)\n",
        "print(labels.shape)"
      ],
      "metadata": {
        "id": "Z7jASI7i823r",
        "colab": {
          "base_uri": "https://localhost:8080/"
        },
        "outputId": "5c8a6844-e47e-4f05-ffdd-4103e41e62a6"
      },
      "execution_count": null,
      "outputs": [
        {
          "output_type": "stream",
          "name": "stdout",
          "text": [
            "(155, 224, 224, 3)\n",
            "(98, 224, 224, 3)\n",
            "(253, 224, 224, 3)\n",
            "(253,)\n"
          ]
        }
      ]
    },
    {
      "cell_type": "code",
      "source": [
        "X_train, X_test, y_train, y_test = train_test_split(images, labels, test_size=0.33, random_state=42)\n",
        "\n",
        "X_val, X_test, y_val, y_test = train_test_split(X_test, y_test, test_size=0.33, random_state=12)  # 12, 36"
      ],
      "metadata": {
        "id": "--sGpT27826k"
      },
      "execution_count": null,
      "outputs": []
    },
    {
      "cell_type": "code",
      "source": [
        "print(X_train.shape)\n",
        "print(X_test.shape)\n",
        "print(X_val.shape)\n",
        "print(y_train.shape)\n",
        "print(y_test.shape)\n",
        "print(y_val.shape)"
      ],
      "metadata": {
        "id": "-V18o7qH83DZ",
        "colab": {
          "base_uri": "https://localhost:8080/"
        },
        "outputId": "da45a83d-7c26-4b9b-91a9-5b3f24794302"
      },
      "execution_count": null,
      "outputs": [
        {
          "output_type": "stream",
          "name": "stdout",
          "text": [
            "(169, 224, 224, 3)\n",
            "(28, 224, 224, 3)\n",
            "(56, 224, 224, 3)\n",
            "(169,)\n",
            "(28,)\n",
            "(56,)\n"
          ]
        }
      ]
    },
    {
      "cell_type": "code",
      "source": [
        "train_datagen = ImageDataGenerator(rotation_range=15,\n",
        "    width_shift_range=0.1,\n",
        "    height_shift_range=0.1,\n",
        "    shear_range=0.1,\n",
        "    brightness_range=[0.5, 1.5],\n",
        "    horizontal_flip=True,\n",
        "    vertical_flip=True)"
      ],
      "metadata": {
        "id": "PpJYox5C9Iu6"
      },
      "execution_count": null,
      "outputs": []
    },
    {
      "cell_type": "code",
      "source": [
        "X_train = preprocess_input(X_train)\n",
        "X_test = preprocess_input(X_test)\n",
        "X_val = preprocess_input(X_val)"
      ],
      "metadata": {
        "id": "JDZskiCP9Ixk"
      },
      "execution_count": null,
      "outputs": []
    },
    {
      "cell_type": "code",
      "source": [
        "base_model = VGG16(weights='imagenet', include_top=False, input_shape=X_train[0].shape)"
      ],
      "metadata": {
        "id": "h9YC3thf9I0K",
        "colab": {
          "base_uri": "https://localhost:8080/"
        },
        "outputId": "bfebff22-510d-4974-c0dd-5d54999f2ffe"
      },
      "execution_count": null,
      "outputs": [
        {
          "output_type": "stream",
          "name": "stdout",
          "text": [
            "Downloading data from https://storage.googleapis.com/tensorflow/keras-applications/vgg16/vgg16_weights_tf_dim_ordering_tf_kernels_notop.h5\n",
            "58889256/58889256 [==============================] - 1s 0us/step\n"
          ]
        }
      ]
    },
    {
      "cell_type": "code",
      "source": [
        "model = tf.keras.models.Sequential([\n",
        "  base_model,\n",
        "  tf.keras.layers.Flatten(),\n",
        "  #tf.keras.layers.Dense(128, activation='relu'),\n",
        "  tf.keras.layers.Dropout(0.5),\n",
        "  tf.keras.layers.Dense(1, activation='sigmoid')\n",
        "])"
      ],
      "metadata": {
        "id": "2hE46h9x9I67"
      },
      "execution_count": null,
      "outputs": []
    },
    {
      "cell_type": "code",
      "source": [
        "model.layers[0].trainable = False"
      ],
      "metadata": {
        "id": "NbOo0TO39Q4k"
      },
      "execution_count": null,
      "outputs": []
    },
    {
      "cell_type": "code",
      "source": [
        "model.compile(optimizer='adam',\n",
        "              loss=tf.keras.losses.BinaryCrossentropy(from_logits=False),\n",
        "              metrics=['binary_accuracy'])"
      ],
      "metadata": {
        "id": "_Gbelkf49Q8Z"
      },
      "execution_count": null,
      "outputs": []
    },
    {
      "cell_type": "code",
      "source": [
        "batch_size = 32\n",
        "train_generator = train_datagen.flow(X_train, y_train, batch_size=batch_size, seed=27, shuffle=True)"
      ],
      "metadata": {
        "id": "ZeTSfQCi9Wp5"
      },
      "execution_count": null,
      "outputs": []
    },
    {
      "cell_type": "code",
      "source": [
        "early_stop = EarlyStopping(monitor='val_binary_accuracy',\n",
        "                           patience=6,\n",
        "                           mode='auto')\n",
        "\n",
        "model_checkpoint =  ModelCheckpoint('best_model.h5', monitor='val_loss', verbose=1, save_best_only=True)"
      ],
      "metadata": {
        "id": "YPNbanlL9Wsg"
      },
      "execution_count": null,
      "outputs": []
    },
    {
      "cell_type": "code",
      "source": [
        "history = model.fit(train_generator,\n",
        "          epochs=50,\n",
        "          steps_per_epoch=X_train.shape[0] // batch_size,\n",
        "          validation_data=(X_val, y_val),\n",
        "          callbacks=[early_stop, model_checkpoint])"
      ],
      "metadata": {
        "id": "-dbjLC5K9dIb",
        "colab": {
          "base_uri": "https://localhost:8080/"
        },
        "outputId": "e1aad45f-db42-4885-8ce2-a46f26f83057"
      },
      "execution_count": null,
      "outputs": [
        {
          "output_type": "stream",
          "name": "stdout",
          "text": [
            "Epoch 1/50\n",
            "5/5 [==============================] - ETA: 0s - loss: 6.0633 - binary_accuracy: 0.5255 \n",
            "Epoch 1: val_loss improved from inf to 1.59368, saving model to best_model.h5\n",
            "5/5 [==============================] - 105s 21s/step - loss: 6.0633 - binary_accuracy: 0.5255 - val_loss: 1.5937 - val_binary_accuracy: 0.7857\n",
            "Epoch 2/50\n",
            "5/5 [==============================] - ETA: 0s - loss: 3.0279 - binary_accuracy: 0.7226 \n",
            "Epoch 2: val_loss improved from 1.59368 to 0.89992, saving model to best_model.h5\n",
            "5/5 [==============================] - 104s 21s/step - loss: 3.0279 - binary_accuracy: 0.7226 - val_loss: 0.8999 - val_binary_accuracy: 0.8393\n",
            "Epoch 3/50\n",
            "5/5 [==============================] - ETA: 0s - loss: 2.7013 - binary_accuracy: 0.7518 \n",
            "Epoch 3: val_loss improved from 0.89992 to 0.60557, saving model to best_model.h5\n",
            "5/5 [==============================] - 103s 21s/step - loss: 2.7013 - binary_accuracy: 0.7518 - val_loss: 0.6056 - val_binary_accuracy: 0.9107\n",
            "Epoch 4/50\n",
            "5/5 [==============================] - ETA: 0s - loss: 2.4825 - binary_accuracy: 0.8000 \n",
            "Epoch 4: val_loss improved from 0.60557 to 0.46929, saving model to best_model.h5\n",
            "5/5 [==============================] - 116s 25s/step - loss: 2.4825 - binary_accuracy: 0.8000 - val_loss: 0.4693 - val_binary_accuracy: 0.9107\n",
            "Epoch 5/50\n",
            "5/5 [==============================] - ETA: 0s - loss: 2.0512 - binary_accuracy: 0.8125 \n",
            "Epoch 5: val_loss did not improve from 0.46929\n",
            "5/5 [==============================] - 114s 24s/step - loss: 2.0512 - binary_accuracy: 0.8125 - val_loss: 1.6988 - val_binary_accuracy: 0.8214\n",
            "Epoch 6/50\n",
            "5/5 [==============================] - ETA: 0s - loss: 1.9601 - binary_accuracy: 0.8029 \n",
            "Epoch 6: val_loss did not improve from 0.46929\n",
            "5/5 [==============================] - 102s 21s/step - loss: 1.9601 - binary_accuracy: 0.8029 - val_loss: 1.8070 - val_binary_accuracy: 0.8214\n",
            "Epoch 7/50\n",
            "5/5 [==============================] - ETA: 0s - loss: 1.9199 - binary_accuracy: 0.8248 \n",
            "Epoch 7: val_loss did not improve from 0.46929\n",
            "5/5 [==============================] - 102s 24s/step - loss: 1.9199 - binary_accuracy: 0.8248 - val_loss: 1.5289 - val_binary_accuracy: 0.8393\n",
            "Epoch 8/50\n",
            "5/5 [==============================] - ETA: 0s - loss: 1.7149 - binary_accuracy: 0.8540 \n",
            "Epoch 8: val_loss did not improve from 0.46929\n",
            "5/5 [==============================] - 103s 21s/step - loss: 1.7149 - binary_accuracy: 0.8540 - val_loss: 0.6362 - val_binary_accuracy: 0.8571\n",
            "Epoch 9/50\n",
            "5/5 [==============================] - ETA: 0s - loss: 1.1290 - binary_accuracy: 0.8540 \n",
            "Epoch 9: val_loss did not improve from 0.46929\n",
            "5/5 [==============================] - 103s 22s/step - loss: 1.1290 - binary_accuracy: 0.8540 - val_loss: 1.3184 - val_binary_accuracy: 0.8036\n"
          ]
        }
      ]
    },
    {
      "cell_type": "code",
      "source": [
        "model.evaluate(X_test,  y_test)"
      ],
      "metadata": {
        "id": "FkoppJdX9dK_",
        "colab": {
          "base_uri": "https://localhost:8080/"
        },
        "outputId": "801520cc-45e6-461e-fdb1-acac9b2f4622"
      },
      "execution_count": null,
      "outputs": [
        {
          "output_type": "stream",
          "name": "stdout",
          "text": [
            "1/1 [==============================] - 16s 16s/step - loss: 2.4504 - binary_accuracy: 0.8571\n"
          ]
        },
        {
          "output_type": "execute_result",
          "data": {
            "text/plain": [
              "[2.4503695964813232, 0.8571428656578064]"
            ]
          },
          "metadata": {},
          "execution_count": 19
        }
      ]
    },
    {
      "cell_type": "code",
      "source": [
        "saved_model = load_model('best_model.h5')"
      ],
      "metadata": {
        "id": "CwwIb8OK9gKt"
      },
      "execution_count": null,
      "outputs": []
    },
    {
      "cell_type": "code",
      "source": [
        "saved_model.evaluate(X_train, y_train)\n",
        "saved_model.evaluate(X_val, y_val)\n",
        "saved_model.evaluate(X_test, y_test)"
      ],
      "metadata": {
        "id": "2WPl-9kj9gNT",
        "colab": {
          "base_uri": "https://localhost:8080/"
        },
        "outputId": "efae73bb-199b-4b37-a68f-42cb88be089f"
      },
      "execution_count": null,
      "outputs": [
        {
          "output_type": "stream",
          "name": "stdout",
          "text": [
            "6/6 [==============================] - 96s 14s/step - loss: 0.5828 - binary_accuracy: 0.9112\n",
            "2/2 [==============================] - 30s 14s/step - loss: 0.4693 - binary_accuracy: 0.9107\n",
            "1/1 [==============================] - 15s 15s/step - loss: 1.7425 - binary_accuracy: 0.8929\n"
          ]
        },
        {
          "output_type": "execute_result",
          "data": {
            "text/plain": [
              "[1.7425038814544678, 0.8928571343421936]"
            ]
          },
          "metadata": {},
          "execution_count": 21
        }
      ]
    },
    {
      "cell_type": "code",
      "source": [
        "plt.plot(history.history['loss'])\n",
        "plt.plot(history.history['val_loss'])\n",
        "plt.title('model train vs validation loss')\n",
        "plt.ylabel('loss')\n",
        "plt.xlabel('epoch')\n",
        "plt.legend(['train', 'validation'], loc='upper right')"
      ],
      "metadata": {
        "id": "_z5btrK19nTK",
        "colab": {
          "base_uri": "https://localhost:8080/",
          "height": 312
        },
        "outputId": "a0b49632-339f-43d3-aae7-c1869019a845"
      },
      "execution_count": null,
      "outputs": [
        {
          "output_type": "execute_result",
          "data": {
            "text/plain": [
              "<matplotlib.legend.Legend at 0x7f02cf9f6d10>"
            ]
          },
          "metadata": {},
          "execution_count": 22
        },
        {
          "output_type": "display_data",
          "data": {
            "text/plain": [
              "<Figure size 432x288 with 1 Axes>"
            ],
            "image/png": "[encoded data removed]"
          },
          "metadata": {
            "needs_background": "light"
          }
        }
      ]
    }
  ]
}